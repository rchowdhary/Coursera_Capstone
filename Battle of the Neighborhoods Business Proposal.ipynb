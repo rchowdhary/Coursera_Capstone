{
 "cells": [
  {
   "cell_type": "markdown",
   "metadata": {
    "collapsed": true
   },
   "source": [
    "## Introduction:\n",
    "The purpose is to help people in exploring better facilities around their neighborhood. It will help people making efficient and more informed decisions on selecting good neighborhoods out of numbers of other neighborhoods in Scarborough, Toronto.\n",
    "\n",
    "Many people are migrating to various states of Canada and need plenty of research for reasonable housing prices and reputed schools for their children. This project is for people who are looking for better neighborhoods to move to for easier access to cafes, schools, grocery stores, malls, theatres, hospitals, like minded people, etc.\n",
    "\n",
    "This project aims to make an analysis of features for people migrating to Scarborough to search the best neighborhood as a comparative analysis between neighborhoods. The features include median housing prices and better schools according to ratings, crime rates of that particular area, road connectivity, weather conditions, good management for emergency, water resources both fresh and waste water and excrement conveyed in sewers and recreational facilities.\n",
    "\n",
    "It will finally help people to get an awareness of the area and neighborhood before moving to a new city, state, country or place for their work or to start a new life.\n",
    "\n",
    "## Problem to Solve:\n",
    "The major purpose of this project is to suggest a better neighborhood in a new city for the person who is moving there. Social presence in society is in terms of like minded people, connectivity to the airport, bus stands, city centers, markets and other daily needs nearby.\n",
    "\n",
    "1. Sorted list of house in terms of housing prices in ascending or descending order\n",
    "2. Sorted list of schools in terms of location, fees, rating and reviews\n",
    "\n",
    "## Location:\n",
    "Scarborough is a popular destination for new immigrants in Canada to reside. As a result, it is one of the most diverse and multicultural areas in the Greater Toronto Area, being home to various religious groups and places of worship. Although immigration has become a hot topic over the past few years with more governments seeking more restrictions on immigrants and refugees, the general trend of immigration into Canada has been one of on the rise.\n",
    "\n",
    "## Foursquare API:\n",
    "This project would use Four-square API as its prime data gathering source, as it has a database of millions of places, especially places API that provides the ability to perform location search, location sharing, and details about businesses.\n",
    "\n",
    "## Work Flow:\n",
    "Using credentials of Foursquare API features of nearby places of the neighborhoods would be mined. Due to http request limitations the number of places per neighborhood parameter would reasonably be set to 100 and the radius parameter would be set to 500.\n",
    "\n",
    "## Clustering Approach:\n",
    "To compare the similarities of two cities, we decided to explore neighborhoods, segment them, and group them into clusters to find similar neighborhoods in a big city like New York and Toronto. To be able to do that, we need to cluster data which is a form of unsupervised machine learning: k-means clustering.\n",
    "\n",
    "## Libraries Which are Used to Develop the Project:\n",
    "Pandas: For creating and manipulating dataframes.\n",
    "\n",
    "Folium: Python visualization library would be used to visualize the neighborhoods cluster distribution of using interactive leaflet map.\n",
    "\n",
    "Scikit Learn: For importing k-means clustering.\n",
    "\n",
    "JSON: Library to handle JSON files.\n",
    "\n",
    "XML: To separate data from presentation and XML stores data in plain text format.\n",
    "\n",
    "Geocoder: To retrieve Location Data.\n",
    "\n",
    "Beautiful Soup and Requests: To scrap and library to handle http requests.\n",
    "\n",
    "Matplotlib: Python Plotting Module."
   ]
  },
  {
   "cell_type": "code",
   "execution_count": null,
   "metadata": {},
   "outputs": [],
   "source": []
  }
 ],
 "metadata": {
  "kernelspec": {
   "display_name": "Python 3.6",
   "language": "python",
   "name": "python3"
  },
  "language_info": {
   "codemirror_mode": {
    "name": "ipython",
    "version": 3
   },
   "file_extension": ".py",
   "mimetype": "text/x-python",
   "name": "python",
   "nbconvert_exporter": "python",
   "pygments_lexer": "ipython3",
   "version": "3.6.9"
  }
 },
 "nbformat": 4,
 "nbformat_minor": 1
}
